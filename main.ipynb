{
 "cells": [
  {
   "cell_type": "code",
   "execution_count": null,
   "id": "6fd2211f",
   "metadata": {},
   "outputs": [],
   "source": [
    "import matplotlib.animation as animation\n",
    "from IPython.display import HTML\n",
    "import numpy as np\n",
    "import matplotlib.pyplot as plt\n",
    "\n",
    "# Load the samples\n",
    "run_name = \"samples_stilted-elevator-52\"\n",
    "img_list = np.load(f\"./artifacts/{run_name}.npy\")\n",
    "\n",
    "print(f\"Sample result shape: {img_list.shape}\")\n",
    "print(f\"Number of epochs: {img_list.shape[0]}\")\n",
    "print(f\"Samples per epoch: {img_list.shape[1]}\")\n",
    "\n",
    "# Create animation showing evolution of first sample over epochs\n",
    "fig = plt.figure(figsize=(10, 10))\n",
    "plt.axis(\"off\")\n",
    "plt.title(\"GAN Training Progress - Sample Evolution Over Epochs\", fontsize=16, pad=20)\n",
    "\n",
    "ims = []\n",
    "for epoch_idx, epoch_samples in enumerate(img_list):\n",
    "    # Take first sample from each epoch for animation\n",
    "    sample = epoch_samples[0]  # Shape: (3, 64, 64)\n",
    "    \n",
    "    # Convert from (C, H, W) to (H, W, C) for matplotlib\n",
    "    img_transposed = np.transpose(sample, (1, 2, 0))\n",
    "    \n",
    "    # Denormalize from [-1, 1] to [0, 1] for display\n",
    "    img_normalized = (img_transposed + 1.0) / 2.0\n",
    "    img_normalized = np.clip(img_normalized, 0, 1)\n",
    "    \n",
    "    # Create the plot for this frame with epoch label\n",
    "    im = plt.imshow(img_normalized, animated=True)\n",
    "    text = plt.text(0.02, 0.98, f'Epoch {epoch_idx + 1}', \n",
    "                   transform=plt.gca().transAxes, \n",
    "                   fontsize=14, color='white', \n",
    "                   bbox=dict(boxstyle='round', facecolor='black', alpha=0.7),\n",
    "                   verticalalignment='top')\n",
    "    ims.append([im, text])\n",
    "\n",
    "# Create animation\n",
    "ani = animation.ArtistAnimation(\n",
    "    fig, ims, interval=300, repeat_delay=2000, blit=True\n",
    ")\n",
    "ani.save(\"animation.gif\", writer=\"pillow\", fps=10)\n",
    "\n",
    "\n",
    "# Display the animation\n",
    "HTML(ani.to_jshtml())"
   ]
  },
  {
   "cell_type": "code",
   "execution_count": null,
   "id": "503f0ab2",
   "metadata": {},
   "outputs": [],
   "source": []
  }
 ],
 "metadata": {
  "kernelspec": {
   "display_name": ".venv",
   "language": "python",
   "name": "python3"
  },
  "language_info": {
   "codemirror_mode": {
    "name": "ipython",
    "version": 3
   },
   "file_extension": ".py",
   "mimetype": "text/x-python",
   "name": "python",
   "nbconvert_exporter": "python",
   "pygments_lexer": "ipython3",
   "version": "3.11.12"
  }
 },
 "nbformat": 4,
 "nbformat_minor": 5
}
