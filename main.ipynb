{
 "cells": [
  {
   "cell_type": "code",
   "id": "initial_id",
   "metadata": {
    "collapsed": true
   },
   "source": [
    "from app import App\n",
    "import matplotlib.animation as animation\n",
    "from IPython.display import HTML\n",
    "import numpy as np\n",
    "import matplotlib.pyplot as plt"
   ],
   "outputs": [],
   "execution_count": null
  },
  {
   "cell_type": "code",
   "id": "d6de47162fdab749",
   "metadata": {},
   "source": [
    "# red from ./artifacts/\n",
    "run_name = \"wandering-wildflower-14.npy\"\n",
    "discriminator_losses = np.load(f\"./artifacts/discriminator_losses_{run_name}\")\n",
    "generator_losses = np.load(f\"./artifacts/generator_losses_{run_name}\")\n",
    "img_list = np.load(f\"./artifacts/img_list_{run_name}\")\n"
   ],
   "outputs": [],
   "execution_count": null
  },
  {
   "cell_type": "code",
   "id": "bee6786a",
   "metadata": {},
   "source": [
    "plt.figure(figsize=(10, 5))\n",
    "plt.title(\"Generator and Discriminator Loss During Training\")\n",
    "plt.plot(generator_losses, label=\"G\")\n",
    "plt.plot(discriminator_losses, label=\"D\")\n",
    "plt.xlabel(\"iterations\")\n",
    "plt.ylabel(\"Loss\")\n",
    "plt.legend()\n",
    "plt.show()"
   ],
   "outputs": [],
   "execution_count": null
  },
  {
   "cell_type": "code",
   "id": "ccecd890",
   "metadata": {},
   "source": [
    "fig = plt.figure(figsize=(8, 8))\n",
    "plt.axis(\"off\")\n",
    "ims = [\n",
    "    [plt.imshow(np.transpose(i, (1, 2, 0)), animated=False)] for i in img_list\n",
    "]\n",
    "ani = animation.ArtistAnimation(\n",
    "    fig, ims, interval=1000, repeat_delay=1000, blit=True\n",
    ")\n",
    "\n",
    "HTML(ani.to_jshtml())"
   ],
   "outputs": [],
   "execution_count": null
  },
  {
   "cell_type": "code",
   "id": "57d308b2",
   "metadata": {},
   "source": [
    "# show the last generated images\n",
    "plt.figure(figsize=(8, 8))\n",
    "plt.axis(\"off\")\n",
    "plt.imshow(np.transpose(img_list[-1], (1, 2, 0)))\n",
    "plt.show()"
   ],
   "outputs": [],
   "execution_count": null
  },
  {
   "cell_type": "code",
   "id": "c234aff2",
   "metadata": {},
   "source": [
    "len(img_list)"
   ],
   "outputs": [],
   "execution_count": null
  },
  {
   "cell_type": "code",
   "id": "8ceef2f4",
   "metadata": {},
   "source": [],
   "outputs": [],
   "execution_count": null
  },
  {
   "cell_type": "code",
   "id": "18699f13",
   "metadata": {},
   "source": [
    "# Corrected notebook cell code\n",
    "import numpy as np\n",
    "import matplotlib.pyplot as plt\n",
    "\n",
    "# Load the samples\n",
    "sample_result = np.load(\"./artifacts/samples_run_654.npy\")\n",
    "EPOCHS = 500\n",
    "\n",
    "print(f\"Sample result shape: {sample_result.shape}\")\n",
    "\n",
    "# Create subplot\n",
    "fig, axes = plt.subplots(figsize=(15,10), nrows=2, ncols=4, sharey=True, sharex=True)\n",
    "\n",
    "# Get the last epoch samples (or specify which epoch you want)\n",
    "epoch_samples = sample_result[-1]\n",
    "\n",
    "for ax, img in zip(axes.flatten(), epoch_samples):\n",
    "    # img is already a numpy array with shape (C, H, W)\n",
    "    # Get dimensions from shape, not size()\n",
    "    C, H, W = img.shape\n",
    "    \n",
    "    # img is already a numpy array, no need for .detach().cpu().numpy()\n",
    "    # Convert from (C, H, W) to (H, W, C) for matplotlib\n",
    "    img = np.transpose(img, (1, 2, 0))\n",
    "    \n",
    "    # Denormalize from [-1, 1] to [0, 255]\n",
    "    img = ((img + 1) * 255 / 2).astype(np.uint8)\n",
    "\n",
    "    ax.xaxis.set_visible(False)\n",
    "    ax.yaxis.set_visible(False)\n",
    "    \n",
    "    # Display the image - no need to reshape since we already transposed\n",
    "    im = ax.imshow(img)\n",
    "\n",
    "plt.show()\n"
   ],
   "outputs": [],
   "execution_count": null
  },
  {
   "cell_type": "code",
   "id": "741c0930",
   "metadata": {},
   "source": [
    "\n",
    "losses_history = np.load(\"./artifacts/losses_run_654.npy\")\n",
    "fig, ax = plt.subplots()\n",
    "losses = np.array(losses_history)\n",
    "plt.plot(losses.T[0], label='Discriminator')\n",
    "plt.plot(losses.T[1], label='Generator')\n",
    "plt.title(\"Training Losses\")\n",
    "plt.legend()\n",
    "plt.show()"
   ],
   "outputs": [],
   "execution_count": null
  },
  {
   "cell_type": "code",
   "id": "71c7358b",
   "metadata": {},
   "source": [],
   "outputs": [],
   "execution_count": null
  }
 ],
 "metadata": {
  "kernelspec": {
   "display_name": ".venv",
   "language": "python",
   "name": "python3"
  },
  "language_info": {
   "codemirror_mode": {
    "name": "ipython",
    "version": 3
   },
   "file_extension": ".py",
   "mimetype": "text/x-python",
   "name": "python",
   "nbconvert_exporter": "python",
   "pygments_lexer": "ipython3",
   "version": "3.11.12"
  }
 },
 "nbformat": 4,
 "nbformat_minor": 5
}
