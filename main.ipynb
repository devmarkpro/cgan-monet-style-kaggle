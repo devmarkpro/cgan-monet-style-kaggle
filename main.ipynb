{
 "cells": [
  {
   "cell_type": "markdown",
   "metadata": {},
   "source": [
    "# CGAN Monet Style Transfer - Main Notebook\n",
    "\n",
    "This notebook sets up PyTorch and device configuration for the Conditional GAN project to generate Monet-style paintings."
   ]
  },
  {
   "cell_type": "markdown",
   "metadata": {},
   "source": [
    "## PyTorch Setup and Device Configuration"
   ]
  },
  {
   "cell_type": "code",
   "execution_count": null,
   "metadata": {},
   "outputs": [],
   "source": [
    "import torch\n",
    "import sys\n",
    "print(f\"Python version: {sys.version}\")\n",
    "print(f\"PyTorch version: {torch.__version__}\")"
   ]
  },
  {
   "cell_type": "code",
   "execution_count": null,
   "metadata": {},
   "outputs": [],
   "source": [
    "# Device configuration - supports CPU, CUDA (GPU), and MPS (Apple Silicon)\n",
    "def setup_device():\n",
    "    \"\"\"\n",
    "    Setup PyTorch device based on hardware availability.\n",
    "    Priority: MPS (Apple Silicon) > CUDA (NVIDIA GPU) > CPU\n",
    "    \"\"\"\n",
    "    if torch.backends.mps.is_available():\n",
    "        device = torch.device(\"mps\")\n",
    "        ngpu = 1  # MPS is treated as single GPU equivalent\n",
    "        device_name = \"Apple Silicon (MPS)\"\n",
    "    elif torch.cuda.is_available():\n",
    "        device = torch.device(\"cuda:0\")\n",
    "        ngpu = torch.cuda.device_count()\n",
    "        device_name = torch.cuda.get_device_name(0) if ngpu > 0 else \"CUDA GPU\"\n",
    "    else:\n",
    "        device = torch.device(\"cpu\")\n",
    "        ngpu = 0\n",
    "        device_name = \"CPU\"\n",
    "    \n",
    "    return device, ngpu, device_name\n",
    "\n",
    "# Setup device\n",
    "device, ngpu, device_name = setup_device()\n",
    "\n",
    "print(f\"Device: {device}\")\n",
    "print(f\"Device name: {device_name}\")\n",
    "print(f\"Number of GPUs (ngpu): {ngpu}\")\n",
    "\n",
    "# Additional device information\n",
    "if device.type == \"cuda\":\n",
    "    print(f\"CUDA version: {torch.version.cuda}\")\n",
    "    print(f\"cuDNN version: {torch.backends.cudnn.version()}\")\n",
    "    for i in range(ngpu):\n",
    "        print(f\"GPU {i}: {torch.cuda.get_device_name(i)}\")\n",
    "        print(f\"  Memory: {torch.cuda.get_device_properties(i).total_memory / 1e9:.1f} GB\")\n",
    "elif device.type == \"mps\":\n",
    "    print(\"MPS (Metal Performance Shaders) is available for Apple Silicon\")\n",
    "else:\n",
    "    print(\"Using CPU - for better performance, consider using a GPU\")"
   ]
  },
  {
   "cell_type": "code",
   "execution_count": null,
   "metadata": {},
   "outputs": [],
   "source": [
    "# Test device with a simple tensor operation\n",
    "print(\"\\n=== Device Test ===\")\n",
    "test_tensor = torch.randint(0, 10, (3, 3), device=device)\n",
    "print(f\"Test tensor on {device}:\")\n",
    "print(test_tensor)\n",
    "print(f\"Tensor device: {test_tensor.device}\")\n",
    "print(f\"Tensor dtype: {test_tensor.dtype}\")\n",
    "\n",
    "# Simple computation test\n",
    "result = torch.matmul(test_tensor.float(), test_tensor.float())\n",
    "print(f\"\\nMatrix multiplication result:\")\n",
    "print(result)\n",
    "print(\"✅ Device setup successful!\")"
   ]
  },
  {
   "cell_type": "markdown",
   "metadata": {},
   "source": [
    "## Next Steps\n",
    "\n",
    "With PyTorch properly configured, you can now:\n",
    "\n",
    "1. **Load the dataset**: Download the Kaggle competition data and place it in the `data/` directory\n",
    "2. **Implement the GAN architecture**: Create generator and discriminator networks\n",
    "3. **Training loop**: Implement the adversarial training process\n",
    "4. **Evaluation**: Generate Monet-style images from test photographs\n",
    "\n",
    "The device configuration above will ensure optimal performance across different hardware setups (CPU, NVIDIA GPU, or Apple Silicon)."
   ]
  }
 ],
 "metadata": {
  "kernelspec": {
   "display_name": "Python 3",
   "language": "python",
   "name": "python3"
  },
  "language_info": {
   "codemirror_mode": {
    "name": "ipython",
    "version": 3
   },
   "file_extension": ".py",
   "mimetype": "text/x-python",
   "name": "python",
   "nbconvert_exporter": "python",
   "pygments_lexer": "ipython3",
   "version": "3.8.0"
  }
 },
 "nbformat": 4,
 "nbformat_minor": 4
}